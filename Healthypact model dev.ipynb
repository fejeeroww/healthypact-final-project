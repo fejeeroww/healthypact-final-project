{
 "cells": [
  {
   "cell_type": "code",
   "execution_count": 107,
   "id": "ebb53c67-c7e6-4642-849e-2f7b2131d3e7",
   "metadata": {},
   "outputs": [
    {
     "name": "stdout",
     "output_type": "stream",
     "text": [
      "Dataset Info:\n",
      "<class 'pandas.core.frame.DataFrame'>\n",
      "RangeIndex: 730 entries, 0 to 729\n",
      "Data columns (total 8 columns):\n",
      " #   Column                  Non-Null Count  Dtype  \n",
      "---  ------                  --------------  -----  \n",
      " 0   date                    730 non-null    object \n",
      " 1   store_id                730 non-null    int64  \n",
      " 2   product_id              730 non-null    int64  \n",
      " 3   demand                  730 non-null    int64  \n",
      " 4   price                   730 non-null    float64\n",
      " 5   promotion               730 non-null    int64  \n",
      " 6   economic_index          730 non-null    float64\n",
      " 7   competitor_price_index  730 non-null    float64\n",
      "dtypes: float64(3), int64(4), object(1)\n",
      "memory usage: 45.8+ KB\n",
      "None\n",
      "\n",
      "Missing Values:\n",
      "date                      0\n",
      "store_id                  0\n",
      "product_id                0\n",
      "demand                    0\n",
      "price                     0\n",
      "promotion                 0\n",
      "economic_index            0\n",
      "competitor_price_index    0\n",
      "dtype: int64\n",
      "\n",
      "Data Types:\n",
      "date                       object\n",
      "store_id                    int64\n",
      "product_id                  int64\n",
      "demand                      int64\n",
      "price                     float64\n",
      "promotion                   int64\n",
      "economic_index            float64\n",
      "competitor_price_index    float64\n",
      "dtype: object\n",
      "\n",
      "Sample Data:\n",
      "         date  store_id  product_id  demand      price  promotion  \\\n",
      "0  01/01/2022         7          53    1445  48.533966          0   \n",
      "1  02/01/2022         4          66    1271  15.528262          0   \n",
      "2  03/01/2022         8          77    1240  30.153213          0   \n",
      "3  04/01/2022         5          43    1405  42.694552          0   \n",
      "4  05/01/2022         7          75    1618  49.478275          0   \n",
      "\n",
      "   economic_index  competitor_price_index  \n",
      "0       85.997950                1.013326  \n",
      "1       71.937829                0.825078  \n",
      "2      106.938558                1.077528  \n",
      "3       98.971645                0.860467  \n",
      "4      109.092162                0.775933  \n"
     ]
    }
   ],
   "source": [
    "#  checking data types and any potential issues\n",
    "import pandas as pd\n",
    "import numpy as np\n",
    "from sklearn.preprocessing import StandardScaler\n",
    "\n",
    "# Load data\n",
    "df = pd.read_csv(r\"C:\\Users\\LADY FEJ\\healthypact_dataset.csv\")\n",
    "\n",
    "# Display data information\n",
    "print(\"Dataset Info:\")\n",
    "print(df.info())\n",
    "print(\"\\nMissing Values:\")\n",
    "print(df.isnull().sum())\n",
    "print(\"\\nData Types:\")\n",
    "print(df.dtypes)\n",
    "print(\"\\nSample Data:\")\n",
    "print(df.head())\n",
    "\n"
   ]
  },
  {
   "cell_type": "code",
   "execution_count": 108,
   "id": "2b9333b4-330d-4da3-bbb4-0795c9bc226d",
   "metadata": {},
   "outputs": [],
   "source": [
    "# Importing libraries\n",
    "import pandas as pd\n",
    "import numpy as np\n",
    "from sklearn.preprocessing import StandardScaler\n",
    "from sklearn.model_selection import train_test_split\n",
    "from sklearn.ensemble import GradientBoostingRegressor\n",
    "from sklearn.metrics import mean_squared_error, r2_score\n",
    "from sklearn.model_selection import train_test_split\n",
    "from sklearn.ensemble import GradientBoostingRegressor\n",
    "from sklearn.metrics import mean_squared_error, r2_score\n",
    "import joblib\n"
   ]
  },
  {
   "cell_type": "code",
   "execution_count": 109,
   "id": "b463da20-b6e1-4122-a691-5eb8e754eba2",
   "metadata": {},
   "outputs": [],
   "source": [
    "\n",
    "df = pd.read_csv(r\"C:\\Users\\LADY FEJ\\healthypact_dataset.csv\")"
   ]
  },
  {
   "cell_type": "code",
   "execution_count": 110,
   "id": "1e1c4ee4-1bab-40ff-83f1-49731a892237",
   "metadata": {},
   "outputs": [],
   "source": [
    "# Create time-based features\n",
    "df['date'] = pd.to_datetime(df['date'], format='%d/%m/%Y')\n",
    "df['month'] = df['date'].dt.month\n",
    "df['day_of_week'] = df['date'].dt.dayofweek\n",
    "df['is_weekend'] = df['day_of_week'].isin([5, 6]).astype(int)\n",
    "\n",
    "# Create seasonal features\n",
    "df['month_sin'] = np.sin(2 * np.pi * df['month']/12)\n",
    "df['month_cos'] = np.cos(2 * np.pi * df['month']/12)\n",
    "\n",
    "# Create demand features with proper grouping\n",
    "grouped = df.groupby(['store_id', 'product_id'])\n",
    "df['demand_lag_7'] = grouped['demand'].transform(lambda x: x.shift(7))\n",
    "df['demand_lag_14'] = grouped['demand'].transform(lambda x: x.shift(14))\n",
    "df['rolling_mean_7'] = grouped['demand'].transform(lambda x: x.rolling(window=7).mean())\n",
    "\n",
    "# Remove rows with NaN values\n",
    "df_clean = df.dropna()\n",
    "\n",
    "# Select final feature set\n",
    "features = ['month_sin', 'month_cos', 'is_weekend', 'price', \n",
    "            'promotion', 'economic_index', 'competitor_price_index',\n",
    "            'demand_lag_7', 'demand_lag_14', 'rolling_mean_7']"
   ]
  },
  {
   "cell_type": "code",
   "execution_count": 111,
   "id": "ea6b1d8a-b801-4130-b171-722b65736f2b",
   "metadata": {},
   "outputs": [],
   "source": [
    "# Prepare features and target\n",
    "X = df_clean[features].values\n",
    "y = df_clean['demand'].values\n"
   ]
  },
  {
   "cell_type": "code",
   "execution_count": 135,
   "id": "224bd93d-9eae-4615-b40d-2d52deb9e388",
   "metadata": {},
   "outputs": [
    {
     "name": "stdout",
     "output_type": "stream",
     "text": [
      "Initial sample count: 730\n",
      "Sample count after feature creation: 730\n",
      "Feature matrix shape: (730, 10)\n",
      "Scaled feature matrix shape: (730, 10)\n"
     ]
    }
   ],
   "source": [
    "\n",
    "df = pd.read_csv(r\"C:\\Users\\LADY FEJ\\healthypact_dataset.csv\")\n",
    "print(\"Initial sample count:\", len(df))\n",
    "df['date'] = pd.to_datetime(df['date'], format='%d/%m/%Y')\n",
    "df['month'] = df['date'].dt.month\n",
    "df['day_of_week'] = df['date'].dt.dayofweek\n",
    "df['is_weekend'] = df['day_of_week'].isin([5, 6]).astype(int)\n",
    "df['month_sin'] = np.sin(2 * np.pi * df['month']/12)\n",
    "df['month_cos'] = np.cos(2 * np.pi * df['month']/12)\n",
    "grouped = df.groupby(['store_id', 'product_id'])['demand']\n",
    "df['demand_lag_7'] = grouped.transform(lambda x: x.shift(7).fillna(x.mean()))\n",
    "df['demand_lag_14'] = grouped.transform(lambda x: x.shift(14).fillna(x.mean()))\n",
    "df['rolling_mean_7'] = grouped.transform(lambda x: x.rolling(window=7, min_periods=1).mean())\n",
    "\n",
    "print(\"Sample count after feature creation:\", len(df))\n",
    "features = ['month_sin', 'month_cos', 'is_weekend', 'price', \n",
    "            'promotion', 'economic_index', 'competitor_price_index',\n",
    "            'demand_lag_7', 'demand_lag_14', 'rolling_mean_7']\n",
    "\n",
    "# Verify feature data\n",
    "X = df[features].values\n",
    "print(\"Feature matrix shape:\", X.shape)\n",
    "\n",
    "# Scale features\n",
    "scaler = StandardScaler()\n",
    "X_scaled = scaler.fit_transform(X)\n",
    "print(\"Scaled feature matrix shape:\", X_scaled.shape)\n"
   ]
  },
  {
   "cell_type": "code",
   "execution_count": 113,
   "id": "6bd85c04-ca1b-4245-9647-f55218106706",
   "metadata": {},
   "outputs": [
    {
     "name": "stdout",
     "output_type": "stream",
     "text": [
      "Training set shape: (584, 10)\n",
      "Test set shape: (146, 10)\n"
     ]
    }
   ],
   "source": [
    "# Create time features\n",
    "df['date'] = pd.to_datetime(df['date'], format='%d/%m/%Y')\n",
    "df['month'] = df['date'].dt.month\n",
    "df['day_of_week'] = df['date'].dt.dayofweek\n",
    "df['is_weekend'] = df['day_of_week'].isin([5, 6]).astype(int)\n",
    "\n",
    "# Create seasonal features\n",
    "df['month_sin'] = np.sin(2 * np.pi * df['month']/12)\n",
    "df['month_cos'] = np.cos(2 * np.pi * df['month']/12)\n",
    "\n",
    "# Create demand features\n",
    "grouped = df.groupby(['store_id', 'product_id'])['demand']\n",
    "df['demand_lag_7'] = grouped.transform(lambda x: x.shift(7).fillna(x.mean()))\n",
    "df['demand_lag_14'] = grouped.transform(lambda x: x.shift(14).fillna(x.mean()))\n",
    "df['rolling_mean_7'] = grouped.transform(lambda x: x.rolling(window=7, min_periods=1).mean())\n",
    "\n",
    "# Select features\n",
    "features = ['month_sin', 'month_cos', 'is_weekend', 'price', \n",
    "            'promotion', 'economic_index', 'competitor_price_index',\n",
    "            'demand_lag_7', 'demand_lag_14', 'rolling_mean_7']\n",
    "\n",
    "# Prepare features and target\n",
    "X = df[features].values\n",
    "y = df['demand'].values  \n",
    "\n",
    "# Scale features\n",
    "scaler = StandardScaler()\n",
    "X_scaled = scaler.fit_transform(X)\n",
    "\n",
    "# Split data\n",
    "X_train, X_test, y_train, y_test = train_test_split(X_scaled, y, test_size=0.2, random_state=42)\n",
    "\n",
    "print(\"Training set shape:\", X_train.shape)\n",
    "print(\"Test set shape:\", X_test.shape)\n"
   ]
  },
  {
   "cell_type": "code",
   "execution_count": 114,
   "id": "042d9997-604c-48ea-856e-17c5d7485577",
   "metadata": {
    "scrolled": true
   },
   "outputs": [],
   "source": [
    "# Split the scaled data\n",
    "X_train, X_test, y_train, y_test = train_test_split(X_scaled, y, test_size=0.2, random_state=42)\n"
   ]
  },
  {
   "cell_type": "code",
   "execution_count": 115,
   "id": "327b1fea-2a32-45e5-a4ec-dc4eff037f55",
   "metadata": {},
   "outputs": [
    {
     "name": "stdout",
     "output_type": "stream",
     "text": [
      "\n",
      "Model Performance Metrics:\n",
      "RMSE: 202.36\n",
      "R2 Score: 0.79\n"
     ]
    }
   ],
   "source": [
    "# Train the model with the prepared data\n",
    "model = GradientBoostingRegressor(n_estimators=100, learning_rate=0.1, max_depth=5, random_state=42)\n",
    "model.fit(X_train, y_train)\n",
    "\n",
    "# Evaluate model performance\n",
    "predictions = model.predict(X_test)\n",
    "rmse = np.sqrt(mean_squared_error(y_test, predictions))\n",
    "r2 = r2_score(y_test, predictions)\n",
    "\n",
    "print(\"\\nModel Performance Metrics:\")\n",
    "print(f\"RMSE: {rmse:.2f}\")\n",
    "print(f\"R2 Score: {r2:.2f}\")\n",
    "\n"
   ]
  },
  {
   "cell_type": "code",
   "execution_count": 133,
   "id": "5f49055b-a9be-496e-95f0-ed003b6101c6",
   "metadata": {},
   "outputs": [],
   "source": [
    "# Price optimization \n",
    "def optimize_price(row_features, price_range=np.arange(10, 100, 1)):\n",
    "    best_price = 0\n",
    "    max_revenue = 0\n",
    "    price_idx = features.index('price')\n",
    "    \n",
    "    for price in price_range:\n",
    "        row_copy = row_features.copy()\n",
    "        row_copy[price_idx] = price\n",
    "        scaled_features = scaler.transform([row_copy])\n",
    "        predicted_demand = model.predict(scaled_features)[0]\n",
    "        revenue = predicted_demand * price\n",
    "        \n",
    "        if revenue > max_revenue:\n",
    "            max_revenue = revenue\n",
    "            best_price = price\n",
    "    \n",
    "    return best_price, max_revenue\n"
   ]
  },
  {
   "cell_type": "code",
   "execution_count": 131,
   "id": "fe226231-d181-473e-9c60-8526b2f04d5f",
   "metadata": {},
   "outputs": [
    {
     "name": "stdout",
     "output_type": "stream",
     "text": [
      "\n",
      "Price Optimization Results:\n",
      "Optimal Price: $97.00\n",
      "Expected Revenue: $139964.85\n"
     ]
    }
   ],
   "source": [
    "# Sample optimization\n",
    "sample_features = X[0]\n",
    "optimal_price, expected_revenue = optimize_price(sample_features)\n",
    "\n",
    "print(\"\\nPrice Optimization Results:\")\n",
    "print(f\"Optimal Price: ${optimal_price:.2f}\")\n",
    "print(f\"Expected Revenue: ${expected_revenue:.2f}\")\n"
   ]
  },
  {
   "cell_type": "code",
   "execution_count": 118,
   "id": "c8b67275-9c09-4f70-a0d5-314e7a898825",
   "metadata": {},
   "outputs": [
    {
     "name": "stdout",
     "output_type": "stream",
     "text": [
      "\n",
      "Model and scaler saved successfully\n"
     ]
    }
   ],
   "source": [
    "# Save model and scaler\n",
    "joblib.dump(model, 'demand_forecaster_model.joblib')\n",
    "joblib.dump(scaler, 'feature_scaler.joblib')\n",
    "print(\"\\nModel and scaler saved successfully\")"
   ]
  },
  {
   "cell_type": "code",
   "execution_count": 141,
   "id": "5f8f3fda-e764-4ba2-868a-05d320b897e2",
   "metadata": {},
   "outputs": [
    {
     "name": "stdout",
     "output_type": "stream",
     "text": [
      "Visualization files created successfully:\n",
      "1. seasonal_decomposition.png\n",
      "2. rolling_demand.png\n",
      "3. economic_indicators.png\n",
      "4. competitive_price_index.png\n",
      "\n",
      "Key Insights:\n",
      "Seasonal Peak Amplitude: 233.67\n",
      "30-Day Rolling Average Range: 882.10 - 1789.70\n",
      "Economic Index Correlation: 0.32\n",
      "Competitive Index Impact: -0.28\n"
     ]
    },
    {
     "data": {
      "text/plain": [
       "<Figure size 960x480 with 0 Axes>"
      ]
     },
     "metadata": {},
     "output_type": "display_data"
    }
   ],
   "source": [
    "import matplotlib.pyplot as plt\n",
    "from statsmodels.tsa.seasonal import seasonal_decompose\n",
    "import pandas as pd\n",
    "\n",
    "# 1. Seasonal Decomposition\n",
    "plt.figure(figsize=(15, 10))\n",
    "# Convert date to index for decomposition\n",
    "df_temp = df.set_index('date')\n",
    "decomposition = seasonal_decompose(df_temp['demand'], period=30)\n",
    "\n",
    "plt.subplot(411)\n",
    "plt.plot(decomposition.observed)\n",
    "plt.title('Observed Demand')\n",
    "plt.subplot(412)\n",
    "plt.plot(decomposition.trend)\n",
    "plt.title('Demand Trend')\n",
    "plt.subplot(413)\n",
    "plt.plot(decomposition.seasonal)\n",
    "plt.title('Seasonal Pattern')\n",
    "plt.subplot(414)\n",
    "plt.plot(decomposition.resid)\n",
    "plt.title('Residuals')\n",
    "plt.tight_layout()\n",
    "plt.savefig('seasonal_decomposition.png', dpi=300)\n",
    "plt.close()\n",
    "\n",
    "# 2. Rolling Demand Metrics\n",
    "plt.figure(figsize=(12, 6))\n",
    "rolling_7 = df.groupby('date')['demand'].mean().rolling(window=7).mean()\n",
    "rolling_30 = df.groupby('date')['demand'].mean().rolling(window=30).mean()\n",
    "\n",
    "plt.plot(rolling_7.index, rolling_7, label='7-Day Rolling Average', color='blue')\n",
    "plt.plot(rolling_30.index, rolling_30, label='30-Day Rolling Average', color='red')\n",
    "plt.title('Rolling Demand Metrics', fontsize=14)\n",
    "plt.xlabel('Date', fontsize=12)\n",
    "plt.ylabel('Demand', fontsize=12)\n",
    "plt.legend()\n",
    "plt.grid(True)\n",
    "plt.savefig('rolling_demand.png', dpi=300)\n",
    "plt.close()\n",
    "\n",
    "# 3. Economic Indicators Impact\n",
    "plt.figure(figsize=(12, 6))\n",
    "fig, ax1 = plt.subplots()\n",
    "\n",
    "ax1.set_xlabel('Date')\n",
    "ax1.set_ylabel('Demand', color='tab:blue')\n",
    "ax1.plot(df['date'], df['demand'], color='tab:blue')\n",
    "ax1.tick_params(axis='y', labelcolor='tab:blue')\n",
    "\n",
    "ax2 = ax1.twinx()\n",
    "ax2.set_ylabel('Economic Index', color='tab:red')\n",
    "ax2.plot(df['date'], df['economic_index'], color='tab:red')\n",
    "ax2.tick_params(axis='y', labelcolor='tab:red')\n",
    "\n",
    "plt.title('Demand vs Economic Indicators')\n",
    "fig.tight_layout()\n",
    "plt.savefig('economic_indicators.png', dpi=300)\n",
    "plt.close()\n",
    "\n",
    "# 4. Competitive Price Index Analysis\n",
    "plt.figure(figsize=(12, 6))\n",
    "plt.scatter(df['competitor_price_index'], df['demand'], alpha=0.5)\n",
    "plt.title('Competitive Price Index vs Demand', fontsize=14)\n",
    "plt.xlabel('Competitor Price Index', fontsize=12)\n",
    "plt.ylabel('Demand', fontsize=12)\n",
    "plt.grid(True)\n",
    "plt.savefig('competitive_price_index.png', dpi=300)\n",
    "plt.close()\n",
    "\n",
    "print(\"Visualization files created successfully:\")\n",
    "print(\"1. seasonal_decomposition.png\")\n",
    "print(\"2. rolling_demand.png\")\n",
    "print(\"3. economic_indicators.png\")\n",
    "print(\"4. competitive_price_index.png\")\n",
    "\n",
    "# Display key insights\n",
    "print(\"\\nKey Insights:\")\n",
    "print(f\"Seasonal Peak Amplitude: {decomposition.seasonal.max():.2f}\")\n",
    "print(f\"30-Day Rolling Average Range: {rolling_30.min():.2f} - {rolling_30.max():.2f}\")\n",
    "print(f\"Economic Index Correlation: {df['demand'].corr(df['economic_index']):.2f}\")\n",
    "print(f\"Competitive Index Impact: {df['demand'].corr(df['competitor_price_index']):.2f}\")"
   ]
  },
  {
   "cell_type": "code",
   "execution_count": null,
   "id": "ac0bb0e0-9528-4965-8db0-c4bc78347c32",
   "metadata": {},
   "outputs": [],
   "source": []
  }
 ],
 "metadata": {
  "kernelspec": {
   "display_name": "Python 3 (ipykernel)",
   "language": "python",
   "name": "python3"
  },
  "language_info": {
   "codemirror_mode": {
    "name": "ipython",
    "version": 3
   },
   "file_extension": ".py",
   "mimetype": "text/x-python",
   "name": "python",
   "nbconvert_exporter": "python",
   "pygments_lexer": "ipython3",
   "version": "3.12.4"
  }
 },
 "nbformat": 4,
 "nbformat_minor": 5
}
